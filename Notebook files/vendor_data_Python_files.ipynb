{
 "cells": [
  {
   "cell_type": "code",
   "execution_count": 19,
   "id": "0fc24155-9eb3-4f02-a137-e4cf2b22e93e",
   "metadata": {},
   "outputs": [],
   "source": [
    "import pandas as pd\n",
    "import os\n",
    "from sqlalchemy import create_engine\n",
    "import logging\n",
    "import time\n",
    "logging.basicConfig(\n",
    "    filename=\"logs/ingestion_db.log\",\n",
    "    level=logging.DEBUG,\n",
    "    format=\"%(asctime)s - %(levelname)s - %(message)s\",\n",
    "    filemode=\"a\"\n",
    ")\n",
    "\n",
    "engine = create_engine('sqlite:///inventory.db')\n",
    "def ingest_db(df, table_name, engine):\n",
    "    '''This function will ingest the  DataFrame into the database table'''\n",
    "    df.to_sql(table_name, con = engine, if_exists = 'replace', index = False)\n",
    "\n",
    "def load_raw_data():\n",
    "    '''This function loads CSVs as DataFrames and ingests them into the DB.'''\n",
    "    start = time.time()\n",
    "    \n",
    "    for file in os.listdir('data'):\n",
    "        if file.endswith('.csv'):\n",
    "            df = pd.read_csv(os.path.join('data', file))\n",
    "            logging.info(f'Ingesting {file} into DB')\n",
    "            \n",
    "            ingest_db(df, file[:-4], engine)\n",
    "    \n",
    "    end = time.time()\n",
    "    total_time = (end - start) / 60\n",
    "    \n",
    "    logging.info('Ingestion Complete')\n",
    "    \n",
    "    logging.info(f'\\nTotal Time Taken: {total_time} minutes')\n",
    "\n",
    "if __name__ == \"__main__\":\n",
    "    load_raw_data()"
   ]
  },
  {
   "cell_type": "code",
   "execution_count": 20,
   "id": "4dd6437a-4abc-422d-8644-f684be230ce0",
   "metadata": {},
   "outputs": [],
   "source": [
    "engine = create_engine('sqlite:///inventory.db')\n",
    "def ingest_db(df, table_name, engine):\n",
    "    '''This function will ingest the  DataFrame into the database table'''\n",
    "    df.to_sql(table_name, con = engine, if_exists = 'replace', index = False)\n",
    "\n",
    "def load_raw_data():\n",
    "    '''This function loads CSVs as DataFrames and ingests them into the DB.'''\n",
    "    start = time.time()\n",
    "    \n",
    "    for file in os.listdir('data'):\n",
    "        if file.endswith('.csv'):\n",
    "            df = pd.read_csv(os.path.join('data', file))\n",
    "            logging.info(f'Ingesting {file} into DB')\n",
    "            \n",
    "            ingest_db(df, file[:-4], engine)\n",
    "    \n",
    "    end = time.time()\n",
    "    total_time = (end - start) / 60\n",
    "    \n",
    "    logging.info('Ingestion Complete')\n",
    "    logging.info(f'\\nTotal Time Taken: {total_time} minutes')"
   ]
  },
  {
   "cell_type": "code",
   "execution_count": 21,
   "id": "88750a47-a31b-41de-8a0b-fc8b2e76ab80",
   "metadata": {},
   "outputs": [],
   "source": [
    "def ingest_db(df, table_name, engine):\n",
    "    '''This function will ingest the  DataFrame into the database table'''\n",
    "    df.to_sql(table_name, con = engine, if_exists = 'replace', index = False)\n",
    "\n",
    "def load_raw_data():\n",
    "    '''This function loads CSVs as DataFrames and ingests them into the DB.'''\n",
    "    start = time.time()\n",
    "    \n",
    "    for file in os.listdir('data'):\n",
    "        if file.endswith('.csv'):\n",
    "            df = pd.read_csv(os.path.join('data', file))\n",
    "            logging.info(f'Ingesting {file} into DB')\n",
    "            \n",
    "            ingest_db(df, file[:-4], engine)\n",
    "    \n",
    "    end = time.time()\n",
    "    total_time = (end - start) / 60\n",
    "    \n",
    "    logging.info('Ingestion Complete')\n",
    "    logging.info(f'\\nTotal Time Taken: {total_time} minutes')"
   ]
  },
  {
   "cell_type": "code",
   "execution_count": 10,
   "id": "f3cf5898-c245-4ce5-ad9b-8e1cc2e9c95a",
   "metadata": {},
   "outputs": [
    {
     "name": "stdout",
     "output_type": "stream",
     "text": [
      "(206529, 9)\n",
      "(224489, 9)\n",
      "(2372474, 16)\n",
      "(12261, 9)\n",
      "(12825363, 14)\n",
      "(5543, 10)\n"
     ]
    }
   ],
   "source": [
    "for file in os.listdir('data'):\n",
    "    if file.endswith('.csv'):\n",
    "        df = pd.read_csv('data/' + file)\n",
    "        print(df.shape)\n",
    "        ingest_db(df, file[:-4], engine)"
   ]
  },
  {
   "cell_type": "code",
   "execution_count": 22,
   "id": "f105f540-8f6f-4519-b866-1b68fc0b7daa",
   "metadata": {},
   "outputs": [],
   "source": [
    "def ingest_db(df, table_name, engine):\n",
    "    '''This function will ingest the  DataFrame into the database table'''\n",
    "    df.to_sql(table_name, con = engine, if_exists = 'replace', index = False)"
   ]
  },
  {
   "cell_type": "code",
   "execution_count": null,
   "id": "b9f535b6-aac4-4953-b3e2-0eab38c073f7",
   "metadata": {},
   "outputs": [],
   "source": []
  }
 ],
 "metadata": {
  "kernelspec": {
   "display_name": "Python 3 (ipykernel)",
   "language": "python",
   "name": "python3"
  },
  "language_info": {
   "codemirror_mode": {
    "name": "ipython",
    "version": 3
   },
   "file_extension": ".py",
   "mimetype": "text/x-python",
   "name": "python",
   "nbconvert_exporter": "python",
   "pygments_lexer": "ipython3",
   "version": "3.13.5"
  }
 },
 "nbformat": 4,
 "nbformat_minor": 5
}
